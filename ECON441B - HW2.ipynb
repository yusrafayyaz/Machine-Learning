{
 "cells": [
  {
   "cell_type": "markdown",
   "id": "6fe7568d-b403-4534-8aab-fd82bc9fbfd5",
   "metadata": {},
   "source": [
    "# Yusra Fayyaz - 106319100"
   ]
  },
  {
   "cell_type": "code",
   "execution_count": 1,
   "id": "b48f7d57",
   "metadata": {},
   "outputs": [
    {
     "name": "stderr",
     "output_type": "stream",
     "text": [
      "/Users/yusrafayyaz/Library/Python/3.9/lib/python/site-packages/urllib3/__init__.py:34: NotOpenSSLWarning: urllib3 v2 only supports OpenSSL 1.1.1+, currently the 'ssl' module is compiled with 'LibreSSL 2.8.3'. See: https://github.com/urllib3/urllib3/issues/3020\n",
      "  warnings.warn(\n"
     ]
    }
   ],
   "source": [
    "import yfinance as yf\n",
    "import pandas as pd\n",
    "import numpy as np\n",
    "import matplotlib.pyplot as plt"
   ]
  },
  {
   "cell_type": "markdown",
   "id": "07c34ec6",
   "metadata": {},
   "source": [
    "# 1.) Pull in Data and Convert ot Monthly"
   ]
  },
  {
   "cell_type": "code",
   "execution_count": 2,
   "id": "4fa973aa",
   "metadata": {},
   "outputs": [
    {
     "name": "stdout",
     "output_type": "stream",
     "text": [
      "[*********************100%%**********************]  1 of 1 completed\n"
     ]
    }
   ],
   "source": [
    "apple_data = yf.download('AAPL')\n",
    "df = apple_data.resample(\"M\").last()[[\"Adj Close\"]]"
   ]
  },
  {
   "cell_type": "markdown",
   "id": "54bbfd02",
   "metadata": {},
   "source": [
    "# 2.) Create columns. \n",
    "  - Current Stock Price, Difference in stock price, Whether it went up or down over the next month,  option premium"
   ]
  },
  {
   "cell_type": "code",
   "execution_count": 3,
   "id": "81ba58d8-c488-48f5-865a-93f28315a555",
   "metadata": {},
   "outputs": [
    {
     "data": {
      "text/html": [
       "<div>\n",
       "<style scoped>\n",
       "    .dataframe tbody tr th:only-of-type {\n",
       "        vertical-align: middle;\n",
       "    }\n",
       "\n",
       "    .dataframe tbody tr th {\n",
       "        vertical-align: top;\n",
       "    }\n",
       "\n",
       "    .dataframe thead th {\n",
       "        text-align: right;\n",
       "    }\n",
       "</style>\n",
       "<table border=\"1\" class=\"dataframe\">\n",
       "  <thead>\n",
       "    <tr style=\"text-align: right;\">\n",
       "      <th></th>\n",
       "      <th>Adj Close</th>\n",
       "    </tr>\n",
       "    <tr>\n",
       "      <th>Date</th>\n",
       "      <th></th>\n",
       "    </tr>\n",
       "  </thead>\n",
       "  <tbody>\n",
       "    <tr>\n",
       "      <th>1980-12-31</th>\n",
       "      <td>0.117887</td>\n",
       "    </tr>\n",
       "    <tr>\n",
       "      <th>1981-01-31</th>\n",
       "      <td>0.097592</td>\n",
       "    </tr>\n",
       "    <tr>\n",
       "      <th>1981-02-28</th>\n",
       "      <td>0.091546</td>\n",
       "    </tr>\n",
       "    <tr>\n",
       "      <th>1981-03-31</th>\n",
       "      <td>0.084637</td>\n",
       "    </tr>\n",
       "    <tr>\n",
       "      <th>1981-04-30</th>\n",
       "      <td>0.098023</td>\n",
       "    </tr>\n",
       "  </tbody>\n",
       "</table>\n",
       "</div>"
      ],
      "text/plain": [
       "            Adj Close\n",
       "Date                 \n",
       "1980-12-31   0.117887\n",
       "1981-01-31   0.097592\n",
       "1981-02-28   0.091546\n",
       "1981-03-31   0.084637\n",
       "1981-04-30   0.098023"
      ]
     },
     "execution_count": 3,
     "metadata": {},
     "output_type": "execute_result"
    }
   ],
   "source": [
    "df.head()"
   ]
  },
  {
   "cell_type": "code",
   "execution_count": 4,
   "id": "1f21f202",
   "metadata": {},
   "outputs": [],
   "source": [
    "df[\"Diff\"] = df[\"Adj Close\"].diff().shift(-1)\n",
    "df[\"Target\"] = np.sign(df[\"Diff\"])\n",
    "df[\"Premium\"] = 0.08 * df[\"Adj Close\"]"
   ]
  },
  {
   "cell_type": "markdown",
   "id": "c9987e25",
   "metadata": {},
   "source": [
    "# 3.) Pull in X data, normalize and build a LogReg on column 2"
   ]
  },
  {
   "cell_type": "code",
   "execution_count": 5,
   "id": "132b4471",
   "metadata": {},
   "outputs": [],
   "source": [
    "import numpy as np\n",
    "import pandas as pd\n",
    "from sklearn.model_selection import train_test_split\n",
    "from sklearn.linear_model import LogisticRegression\n",
    "from sklearn import metrics"
   ]
  },
  {
   "cell_type": "code",
   "execution_count": 6,
   "id": "b21f3c33",
   "metadata": {},
   "outputs": [],
   "source": [
    "X = pd.read_csv(\"Xdata.csv\", index_col=\"Date\", parse_dates=[\"Date\"])"
   ]
  },
  {
   "cell_type": "code",
   "execution_count": 7,
   "id": "7b38602e",
   "metadata": {},
   "outputs": [],
   "source": [
    "y = df.loc[:\"2023-09-30\",\"Target\"].copy()\n",
    "df = df.loc[:\"2023-09-30\",:].copy()"
   ]
  },
  {
   "cell_type": "code",
   "execution_count": 8,
   "id": "f3bc75a2",
   "metadata": {},
   "outputs": [
    {
     "data": {
      "text/html": [
       "<style>#sk-container-id-1 {color: black;}#sk-container-id-1 pre{padding: 0;}#sk-container-id-1 div.sk-toggleable {background-color: white;}#sk-container-id-1 label.sk-toggleable__label {cursor: pointer;display: block;width: 100%;margin-bottom: 0;padding: 0.3em;box-sizing: border-box;text-align: center;}#sk-container-id-1 label.sk-toggleable__label-arrow:before {content: \"▸\";float: left;margin-right: 0.25em;color: #696969;}#sk-container-id-1 label.sk-toggleable__label-arrow:hover:before {color: black;}#sk-container-id-1 div.sk-estimator:hover label.sk-toggleable__label-arrow:before {color: black;}#sk-container-id-1 div.sk-toggleable__content {max-height: 0;max-width: 0;overflow: hidden;text-align: left;background-color: #f0f8ff;}#sk-container-id-1 div.sk-toggleable__content pre {margin: 0.2em;color: black;border-radius: 0.25em;background-color: #f0f8ff;}#sk-container-id-1 input.sk-toggleable__control:checked~div.sk-toggleable__content {max-height: 200px;max-width: 100%;overflow: auto;}#sk-container-id-1 input.sk-toggleable__control:checked~label.sk-toggleable__label-arrow:before {content: \"▾\";}#sk-container-id-1 div.sk-estimator input.sk-toggleable__control:checked~label.sk-toggleable__label {background-color: #d4ebff;}#sk-container-id-1 div.sk-label input.sk-toggleable__control:checked~label.sk-toggleable__label {background-color: #d4ebff;}#sk-container-id-1 input.sk-hidden--visually {border: 0;clip: rect(1px 1px 1px 1px);clip: rect(1px, 1px, 1px, 1px);height: 1px;margin: -1px;overflow: hidden;padding: 0;position: absolute;width: 1px;}#sk-container-id-1 div.sk-estimator {font-family: monospace;background-color: #f0f8ff;border: 1px dotted black;border-radius: 0.25em;box-sizing: border-box;margin-bottom: 0.5em;}#sk-container-id-1 div.sk-estimator:hover {background-color: #d4ebff;}#sk-container-id-1 div.sk-parallel-item::after {content: \"\";width: 100%;border-bottom: 1px solid gray;flex-grow: 1;}#sk-container-id-1 div.sk-label:hover label.sk-toggleable__label {background-color: #d4ebff;}#sk-container-id-1 div.sk-serial::before {content: \"\";position: absolute;border-left: 1px solid gray;box-sizing: border-box;top: 0;bottom: 0;left: 50%;z-index: 0;}#sk-container-id-1 div.sk-serial {display: flex;flex-direction: column;align-items: center;background-color: white;padding-right: 0.2em;padding-left: 0.2em;position: relative;}#sk-container-id-1 div.sk-item {position: relative;z-index: 1;}#sk-container-id-1 div.sk-parallel {display: flex;align-items: stretch;justify-content: center;background-color: white;position: relative;}#sk-container-id-1 div.sk-item::before, #sk-container-id-1 div.sk-parallel-item::before {content: \"\";position: absolute;border-left: 1px solid gray;box-sizing: border-box;top: 0;bottom: 0;left: 50%;z-index: -1;}#sk-container-id-1 div.sk-parallel-item {display: flex;flex-direction: column;z-index: 1;position: relative;background-color: white;}#sk-container-id-1 div.sk-parallel-item:first-child::after {align-self: flex-end;width: 50%;}#sk-container-id-1 div.sk-parallel-item:last-child::after {align-self: flex-start;width: 50%;}#sk-container-id-1 div.sk-parallel-item:only-child::after {width: 0;}#sk-container-id-1 div.sk-dashed-wrapped {border: 1px dashed gray;margin: 0 0.4em 0.5em 0.4em;box-sizing: border-box;padding-bottom: 0.4em;background-color: white;}#sk-container-id-1 div.sk-label label {font-family: monospace;font-weight: bold;display: inline-block;line-height: 1.2em;}#sk-container-id-1 div.sk-label-container {text-align: center;}#sk-container-id-1 div.sk-container {/* jupyter's `normalize.less` sets `[hidden] { display: none; }` but bootstrap.min.css set `[hidden] { display: none !important; }` so we also need the `!important` here to be able to override the default hidden behavior on the sphinx rendered scikit-learn.org. See: https://github.com/scikit-learn/scikit-learn/issues/21755 */display: inline-block !important;position: relative;}#sk-container-id-1 div.sk-text-repr-fallback {display: none;}</style><div id=\"sk-container-id-1\" class=\"sk-top-container\"><div class=\"sk-text-repr-fallback\"><pre>LogisticRegression()</pre><b>In a Jupyter environment, please rerun this cell to show the HTML representation or trust the notebook. <br />On GitHub, the HTML representation is unable to render, please try loading this page with nbviewer.org.</b></div><div class=\"sk-container\" hidden><div class=\"sk-item\"><div class=\"sk-estimator sk-toggleable\"><input class=\"sk-toggleable__control sk-hidden--visually\" id=\"sk-estimator-id-1\" type=\"checkbox\" checked><label for=\"sk-estimator-id-1\" class=\"sk-toggleable__label sk-toggleable__label-arrow\">LogisticRegression</label><div class=\"sk-toggleable__content\"><pre>LogisticRegression()</pre></div></div></div></div></div>"
      ],
      "text/plain": [
       "LogisticRegression()"
      ]
     },
     "execution_count": 8,
     "metadata": {},
     "output_type": "execute_result"
    }
   ],
   "source": [
    "logreg = LogisticRegression()\n",
    "logreg.fit(X,y)"
   ]
  },
  {
   "cell_type": "markdown",
   "id": "2c2c792d",
   "metadata": {},
   "source": [
    "# 4.) Add columns, prediction and profits."
   ]
  },
  {
   "cell_type": "code",
   "execution_count": 9,
   "id": "8009466a",
   "metadata": {},
   "outputs": [],
   "source": [
    "y_pred = logreg.predict(X)"
   ]
  },
  {
   "cell_type": "code",
   "execution_count": 10,
   "id": "4aae021b",
   "metadata": {},
   "outputs": [],
   "source": [
    "df[\"predictions\"] = y_pred"
   ]
  },
  {
   "cell_type": "code",
   "execution_count": 11,
   "id": "911001fc-4329-410d-9aa6-3cb1533483d4",
   "metadata": {},
   "outputs": [],
   "source": [
    "df[\"Profits\"] = 0"
   ]
  },
  {
   "cell_type": "code",
   "execution_count": 12,
   "id": "7c8a051f",
   "metadata": {},
   "outputs": [
    {
     "name": "stderr",
     "output_type": "stream",
     "text": [
      "/var/folders/0b/cv8kv48n20d8081ppp42wrkm0000gn/T/ipykernel_30450/82810934.py:2: FutureWarning: Setting an item of incompatible dtype is deprecated and will raise in a future error of pandas. Value '[6.77095294e-03 7.84186184e-03 4.21455055e-03 5.14728665e-03\n",
      " 3.52368265e-03 3.73094171e-03 4.97456819e-03 5.04365265e-03\n",
      " 7.01275527e-03 8.25644732e-03 1.12964582e-02 1.16764414e-02\n",
      " 1.39564288e-02 9.63824749e-03 5.63095748e-03 6.73640847e-03\n",
      " 6.84004128e-03 6.84004128e-03 7.04730093e-03 6.84004128e-03\n",
      " 4.80185211e-03 4.14546371e-03 4.35278773e-03 5.14728665e-03\n",
      " 5.56186914e-03 6.08002424e-03 6.39097512e-03 6.90912664e-03\n",
      " 7.80732036e-03 8.36007833e-03 8.63642395e-03 9.25827265e-03\n",
      " 9.56916094e-03 1.10545945e-02 1.11928236e-02 1.53382945e-02\n",
      " 1.78255379e-02 2.18661213e-02 2.24196625e-02 2.28348804e-02\n",
      " 2.99315429e-02 1.83313978e-02 2.30531240e-02 2.22636914e-02\n",
      " 2.28202534e-02 2.31442833e-02 2.22799611e-02 2.10782743e-02\n",
      " 2.00128174e-02 2.19087768e-02 2.23790550e-02 2.51126838e-02\n",
      " 1.92344809e-02 1.92964458e-02 2.23470569e-02 2.34761572e-02\n",
      " 1.65543330e-02 1.75533056e-02 2.10484338e-02 2.46281338e-02\n",
      " 3.17874527e-02 3.28587675e-02 2.66131592e-02 2.85475969e-02\n",
      " 2.93389034e-02 3.25907326e-02 3.74324059e-02 3.37376642e-02\n",
      " 2.62588120e-02 3.05504084e-02 3.35311747e-02 2.99516320e-02\n",
      " 1.37496531e-02 1.80878413e-02 1.72673297e-02 1.93334866e-02\n",
      " 1.57620811e-02 2.00371695e-02 2.01065779e-02 2.22997475e-02\n",
      " 2.33473778e-02 2.11604762e-02 2.29613805e-02 2.50190592e-02\n",
      " 2.19184327e-02 1.47587144e-02 1.27151942e-02 1.33207166e-02\n",
      " 1.34342313e-02 1.39261591e-02 9.83912110e-03 8.62815976e-03\n",
      " 1.05959928e-02 1.03121984e-02 7.94703007e-03 1.10879266e-02\n",
      " 1.43046284e-02 1.61210358e-02 1.73698425e-02 1.88835859e-02\n",
      " 1.93376732e-02 2.47870421e-02 2.10784745e-02 2.17596698e-02\n",
      " 2.66791916e-02 2.80415130e-02 3.37179875e-02 3.83347821e-02\n",
      " 4.85145473e-02 5.92619038e-02 6.22515154e-02 6.28191185e-02\n",
      " 6.94038200e-02 5.08607769e-02 6.15324640e-02 1.80131924e-02\n",
      " 2.21002388e-02 2.67261267e-02 2.41588688e-02 1.87821436e-02\n",
      " 2.57936716e-02 2.65202379e-02 2.62780786e-02 2.86637139e-02\n",
      " 1.75591087e-02 1.73532224e-02 1.73895752e-02 1.71231318e-02\n",
      " 2.17369437e-02 2.30810952e-02 2.55273008e-02 2.50913215e-02\n",
      " 2.53214145e-02 2.58784389e-02 2.73194981e-02 2.89664364e-02\n",
      " 3.12188315e-02 3.39798212e-02 3.91628003e-02 4.17663956e-02\n",
      " 4.69251013e-02 6.34548903e-02 7.79865408e-02 9.31236362e-02\n",
      " 8.73352242e-02 8.91516972e-02 1.03295803e-01 1.13564863e-01\n",
      " 1.29840355e-01 1.39479675e-01 1.64256096e-01 1.74113407e-01\n",
      " 1.51904221e-01 1.38704634e-01 1.64328747e-01 1.86441078e-01\n",
      " 1.96371059e-01 2.05477562e-01 2.04920578e-01 2.25022621e-01\n",
      " 2.41709881e-01 2.93515129e-01 3.19115105e-01 3.35390625e-01\n",
      " 3.71695480e-01 4.41326408e-01 3.02791252e-01 3.47548790e-01\n",
      " 4.21296883e-01 3.84967842e-01 2.06712723e-01 2.16303711e-01\n",
      " 2.54594536e-01 3.04752998e-01 3.44957275e-01 3.95721245e-01\n",
      " 4.07394867e-01 4.48907127e-01 4.56536102e-01 4.84170532e-01\n",
      " 4.65158272e-01 4.95577736e-01 5.69156342e-01 6.09191093e-01\n",
      " 5.88774185e-01 6.87225952e-01 7.28956146e-01 7.53587112e-01\n",
      " 7.81221619e-01 8.21813431e-01 8.44071198e-01 8.12973480e-01\n",
      " 9.23535080e-01 9.25666275e-01 9.80886688e-01 1.10556808e+00\n",
      " 1.31375824e+00 1.39922867e+00 1.41441452e+00 1.47922531e+00\n",
      " 1.61809067e+00 1.08482460e+00 1.08792152e+00 1.08821648e+00\n",
      " 9.80998764e-01 1.11954041e+00 1.18724739e+00 1.30167618e+00\n",
      " 1.39286255e+00 1.25391930e+00 1.32603317e+00 1.35249191e+00\n",
      " 1.48692413e+00 1.60395905e+00 1.64832794e+00 1.69568619e+00\n",
      " 1.79592194e+00 1.92515732e+00 1.97611404e+00 2.09749496e+00\n",
      " 2.23644043e+00 2.24938126e+00 1.99976685e+00 1.77007126e+00\n",
      " 1.71606628e+00 1.76077194e+00 1.91935226e+00 1.96474899e+00\n",
      " 2.09344803e+00 2.05710541e+00 2.15575378e+00 2.25868378e+00\n",
      " 2.56084534e+00 2.68534607e+00 2.70337402e+00 2.79178528e+00\n",
      " 2.90432068e+00 3.18548065e+00 3.16648376e+00 3.13818604e+00\n",
      " 3.52868103e+00 3.62742493e+00 3.02801208e+00 3.19501862e+00\n",
      " 3.33807983e+00 3.66196014e+00 3.38809265e+00 3.83030396e+00\n",
      " 4.05504944e+00 4.35091217e+00 4.83249054e+00 5.20726990e+00\n",
      " 5.72166321e+00 4.96650818e+00 5.73817322e+00 6.22645996e+00\n",
      " 7.14415344e+00 8.32387878e+00 8.54292480e+00 9.35871582e+00\n",
      " 9.54669250e+00 9.61676147e+00 9.82709961e+00 1.08010547e+01\n",
      " 1.15029346e+01 1.11758118e+01 1.18313550e+01 1.30746143e+01\n",
      " 1.30770154e+01 1.08437292e+01 1.09763367e+01 1.03366235e+01\n",
      " 1.14790369e+01 1.17451550e+01 1.35195581e+01 1.41422449e+01\n",
      " 1.54762854e+01]' has dtype incompatible with int64, please explicitly cast to a compatible dtype first.\n",
      "  df.loc[(df[\"Target\"] == 1) & (df[\"predictions\"] == 1), \"Profits\"] = df[\"Premium\"]\n"
     ]
    }
   ],
   "source": [
    "# TP\n",
    "df.loc[(df[\"Target\"] == 1) & (df[\"predictions\"] == 1), \"Profits\"] = df[\"Premium\"]\n",
    "\n",
    "# FP\n",
    "df.loc[(df[\"Target\"] == -1) & (df[\"predictions\"] == 1), \"Profits\"] = 100*df[\"Diff\"] + df[\"Premium\"]"
   ]
  },
  {
   "cell_type": "markdown",
   "id": "e379d80c",
   "metadata": {},
   "source": [
    "# 5.) Plot profits over time"
   ]
  },
  {
   "cell_type": "code",
   "execution_count": 13,
   "id": "bc16f4dc",
   "metadata": {},
   "outputs": [
    {
     "data": {
      "image/png": "[encoded data removed]",
      "text/plain": [
       "<Figure size 640x480 with 1 Axes>"
      ]
     },
     "metadata": {},
     "output_type": "display_data"
    }
   ],
   "source": [
    "plt.plot(np.cumsum(df[\"Profits\"]))\n",
    "plt.grid()\n",
    "plt.xlabel(\"Time\")\n",
    "plt.ylabel(\"Profits\")\n",
    "plt.show()"
   ]
  },
  {
   "cell_type": "markdown",
   "id": "e1c6c248-29c2-4009-9a3e-439f9c27325a",
   "metadata": {},
   "source": [
    "The drop is a result of covid - unexpected scenario. Asymmetric returns on the downside, huge loss."
   ]
  },
  {
   "cell_type": "markdown",
   "id": "3f8a91e5-6b78-4742-820a-5f85443a9281",
   "metadata": {},
   "source": [
    "# 5.5) Short write up about how you see your skills valuable to PJ (avalanche + the arena) and/or Philip Liu (bitman)"
   ]
  },
  {
   "cell_type": "markdown",
   "id": "c78d86da-c81f-4800-88e2-a3bb2d4921b6",
   "metadata": {},
   "source": [
    "Philip Liu spoke about the company he works at, Bitmain, which develops digital mining servers. Philip specifically mentioned that there is a need for AI computing hardware, and DGX Cloud. Throughout my undergraduate studies, I took some machine learning and AI courses as a computer science minor, and the skills learnt through such education would be very valuable in developing AI computing hardware. Additionally, ECON425 here at the MQE program will provide me with further knowledge that can be applied to backend coding for such programs. Moreover, my ever-growing knowledge of finance and blockchains would also be valuable as they provide me with the \"why?\" of what Bitmain is working towards - manufacturing mining services for cryptocurrencies. Similarly, these skills would be valuable to PJ who worked at Avalanche which is a blockchain platform to process transactions, as this system not only requires an understanding of finance and the intuition behind such transactions, but also requires coding and AI skills that can be used to further develop the system."
   ]
  },
  {
   "cell_type": "markdown",
   "id": "5c970b3f",
   "metadata": {},
   "source": [
    "# 6.) Create a loop that stores total profits over time"
   ]
  },
  {
   "cell_type": "code",
   "execution_count": null,
   "id": "abab021c",
   "metadata": {},
   "outputs": [],
   "source": []
  },
  {
   "cell_type": "markdown",
   "id": "30f8738c",
   "metadata": {},
   "source": [
    "# 7.) What is the optimal threshold and plot the total profits for this model."
   ]
  },
  {
   "cell_type": "code",
   "execution_count": null,
   "id": "aba0f592",
   "metadata": {},
   "outputs": [],
   "source": []
  }
 ],
 "metadata": {
  "kernelspec": {
   "display_name": "Python 3 (ipykernel)",
   "language": "python",
   "name": "python3"
  },
  "language_info": {
   "codemirror_mode": {
    "name": "ipython",
    "version": 3
   },
   "file_extension": ".py",
   "mimetype": "text/x-python",
   "name": "python",
   "nbconvert_exporter": "python",
   "pygments_lexer": "ipython3",
   "version": "3.9.6"
  }
 },
 "nbformat": 4,
 "nbformat_minor": 5
}
