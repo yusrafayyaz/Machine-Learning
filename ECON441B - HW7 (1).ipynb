{
 "cells": [
  {
   "cell_type": "code",
   "execution_count": 84,
   "metadata": {
    "id": "Q2A8TGhKm3i5"
   },
   "outputs": [],
   "source": [
    "import openai\n",
    "import os\n",
    "import wikipedia"
   ]
  },
  {
   "cell_type": "markdown",
   "metadata": {
    "id": "7E9HEMJSX-3T"
   },
   "source": [
    "# 1.) Set up OpenAI and the enviornment\n"
   ]
  },
  {
   "cell_type": "code",
   "execution_count": 111,
   "metadata": {
    "id": "4zwwdkZDYDZN"
   },
   "outputs": [],
   "source": [
    "# DONE"
   ]
  },
  {
   "cell_type": "code",
   "execution_count": 112,
   "metadata": {
    "id": "8IiKS0snlpYP"
   },
   "outputs": [],
   "source": [
    "apikey = \"HIDDEN KEY\" #hidden for uploading on GitHub"
   ]
  },
  {
   "cell_type": "code",
   "execution_count": 113,
   "metadata": {},
   "outputs": [],
   "source": [
    "openai.api_key = apikey"
   ]
  },
  {
   "cell_type": "code",
   "execution_count": 114,
   "metadata": {},
   "outputs": [],
   "source": [
    "client = openai.OpenAI(\n",
    "    api_key = openai.api_key\n",
    ")"
   ]
  },
  {
   "cell_type": "markdown",
   "metadata": {
    "id": "tOXc5_BTm9HP"
   },
   "source": [
    "# 2.) Use the wikipedia api to get a function that pulls in the text of a wikipedia page"
   ]
  },
  {
   "cell_type": "code",
   "execution_count": 115,
   "metadata": {
    "id": "-v7OYamHlrEB"
   },
   "outputs": [],
   "source": [
    "page_titles = [\"Artificial Intelligence\", \"Machine Learning\"]"
   ]
  },
  {
   "cell_type": "code",
   "execution_count": 116,
   "metadata": {},
   "outputs": [],
   "source": [
    "page_title = page_titles[0]"
   ]
  },
  {
   "cell_type": "code",
   "execution_count": 117,
   "metadata": {
    "id": "TgY2FkTdmhTH"
   },
   "outputs": [],
   "source": [
    "search_results = wikipedia.search(page_title)"
   ]
  },
  {
   "cell_type": "code",
   "execution_count": 118,
   "metadata": {
    "id": "Kw5H5jMlmmS3"
   },
   "outputs": [],
   "source": [
    "page = wikipedia.page(search_results[0])"
   ]
  },
  {
   "cell_type": "code",
   "execution_count": 119,
   "metadata": {
    "id": "ZF3BiZyXltYO"
   },
   "outputs": [],
   "source": [
    "#page.content"
   ]
  },
  {
   "cell_type": "code",
   "execution_count": 120,
   "metadata": {
    "id": "Ef7yfa2jl0iZ"
   },
   "outputs": [],
   "source": [
    "def get_wikipedia_content(page_title):\n",
    "    search_results = wikipedia.search(page_title)\n",
    "    page = wikipedia.page(search_results[0])\n",
    "    return(page.content)"
   ]
  },
  {
   "cell_type": "markdown",
   "metadata": {
    "id": "_9aruncMmubX"
   },
   "source": [
    "# 3.) Build a chatgpt bot that will analyze the text given and try to locate any false info"
   ]
  },
  {
   "cell_type": "code",
   "execution_count": 121,
   "metadata": {},
   "outputs": [],
   "source": [
    "wiki_content = get_wikipedia_content(page_title)"
   ]
  },
  {
   "cell_type": "code",
   "execution_count": 122,
   "metadata": {
    "id": "Bmai3B6Dmw3O"
   },
   "outputs": [],
   "source": [
    "chat_completion = client.chat.completions.create(\n",
    "    model = \"gpt-4\",\n",
    "    messages = [{\"role\": \"system\", \"content\": \"I will be giving you an article, let me know if anything is potentially false. Go with a fine tooth comb and have low sensitivity for locating potential errors. If there are any errors please number them and be very concise when quoting them. If there are no potential errors, return 'NONE'.\"},\n",
    "                {\"role\": \"user\", \"content\": wiki_content[:8192]}]\n",
    ")"
   ]
  },
  {
   "cell_type": "code",
   "execution_count": 123,
   "metadata": {
    "id": "1jI-un5PnDjg"
   },
   "outputs": [
    {
     "name": "stdout",
     "output_type": "stream",
     "text": [
      "1. \"Alan Turing was the first person to conduct substantial research in the field that he called machine intelligence.\" - While Alan Turing is a foundational figure in the field of computing and AI, crediting him as the \"first\" person to conduct substantial research in the field may not be completely accurate, as there were other prominent figures contributing to the foundations of AI around the same time.\n",
      "\n",
      "2. \"Funding and interest vastly increased after 2012 when deep learning surpassed all previous AI techniques, and after 2017 with the transformer architecture.\" - This statement seems to suggest that deep learning surpassed all previous AI techniques definitively and universally in 2012, which is not entirely true. The effectiveness of different AI techniques can depend on specific applications and use cases.\n",
      "\n",
      "3. \"This led to the AI spring of the early 2020s, with companies, universities, and laboratories overwhelmingly based in the United States pioneering significant advances in artificial intelligence.\" - This statement potentially diminishes the contributions to AI advancements from entities based in other countries. Many innovations in AI have been international efforts.\n",
      "\n",
      "4. \"General intelligence (the ability to complete any task performable by a human) is among the field's long-term goals.\" - It is not universally agreed upon that the ability to complete any task performable by a human is among the long-term goals of AI, as not all researchers or practitioners believe AI should or can replicate all human capabilities.\n",
      "\n",
      "5. \"Unsupervised learning analyzes a stream of data and finds patterns and makes predictions without any other guidance.\" - This may not be entirely accurate, as unsupervised learning primarily focuses on finding patterns and structure within data rather than making predictions. Predictive models are typically associated with supervised learning.\n"
     ]
    }
   ],
   "source": [
    "print(chat_completion.choices[0].message.content)"
   ]
  },
  {
   "cell_type": "code",
   "execution_count": 124,
   "metadata": {
    "id": "_TMKFGN4nDJ4"
   },
   "outputs": [],
   "source": [
    "def chatgpt_error_correction(text):\n",
    "    chat_completion = client.chat.completions.create(\n",
    "    model = \"gpt-4\",\n",
    "    messages = [{\"role\": \"system\", \"content\": \"I will be giving you an article, let me know if anything is potentially false. Go with a fine tooth comb and have low sensitivity for locating potential errors. If there are any errors please number them and be very concise when quoting them. If there are no potential errors, return 'NONE'.\"},\n",
    "                {\"role\": \"user\", \"content\": text}])\n",
    "    return(chat_completion.choices[0].message.content)"
   ]
  },
  {
   "cell_type": "markdown",
   "metadata": {
    "id": "zPw5LyPEobmk"
   },
   "source": [
    "# 4.) Make a for loop and check a few wikipedia pages and return a report of any potentially false info via wikipedia"
   ]
  },
  {
   "cell_type": "code",
   "execution_count": 125,
   "metadata": {
    "id": "V7cuhML2ocGn"
   },
   "outputs": [],
   "source": [
    "page_titles = [\"Artificial Intelligence\", \"Machine Learning\"]"
   ]
  },
  {
   "cell_type": "code",
   "execution_count": 126,
   "metadata": {},
   "outputs": [],
   "source": [
    "def split_text(text, chunk_size = 8180):\n",
    "    chunks = len(text)//8180 + 1\n",
    "    return([text[i*chunk_size:(i+1)*chunk_size] for i in range(0,chunks-1)])"
   ]
  },
  {
   "cell_type": "code",
   "execution_count": 127,
   "metadata": {},
   "outputs": [
    {
     "name": "stdout",
     "output_type": "stream",
     "text": [
      "__________Artificial Intelligence\n",
      "1. \"Alan Turing was the first person to conduct substantial research in the field that he called machine intelligence.\" - This statement could be false as there can be debates about who really conducted the first 'substantial' research in the field of artificial intelligence. While Alan Turing is indeed a pioneering figure, attributing him as the first person could be misleading.\n",
      "\n",
      "2. \"Artificial intelligence was founded as an academic discipline in 1956.\" - Information could be false or inaccurate. Even though the Dartmouth Conference held in 1956 is often considered to be the birthplace of AI as a field, the discipline had roots and developments before this date. This statement might misrepresent the history of AI by suggesting that nothing substantial occurred before 1956. \n",
      "\n",
      "3. \"Even humans rarely use the step-by-step deduction that early AI research could model.\" - Potential for incorrectness with this sweeping generalization. While it's true that people often utilize quick, intuitive decision-making processes, stating that humans 'rarely' use step-by-step deduction might be an overstatement.\n",
      "\n",
      "4. \"Among the most difficult problems in knowledge representation are: the breadth of commonsense knowledge...\" - This can be seen as potentially false due to differing opinions on what the most difficult problems in knowledge representation are. Categorizing them in such a way might not reflect the general consensus in the field.\n",
      "__________Machine Learning\n",
      "ERROR\n"
     ]
    }
   ],
   "source": [
    "for page_title in page_titles:\n",
    "    print(\"__________\" + page_title)\n",
    "    try:\n",
    "        text = get_wikipedia_content(page_title)\n",
    "        print(chatgpt_error_correction(text[:8192]))\n",
    "    except:\n",
    "        print(\"ERROR\")"
   ]
  },
  {
   "cell_type": "code",
   "execution_count": null,
   "metadata": {},
   "outputs": [],
   "source": []
  }
 ],
 "metadata": {
  "colab": {
   "provenance": []
  },
  "kernelspec": {
   "display_name": "Python 3 (ipykernel)",
   "language": "python",
   "name": "python3"
  },
  "language_info": {
   "codemirror_mode": {
    "name": "ipython",
    "version": 3
   },
   "file_extension": ".py",
   "mimetype": "text/x-python",
   "name": "python",
   "nbconvert_exporter": "python",
   "pygments_lexer": "ipython3",
   "version": "3.9.6"
  }
 },
 "nbformat": 4,
 "nbformat_minor": 4
}
